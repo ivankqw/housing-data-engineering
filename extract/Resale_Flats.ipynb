{
 "cells": [
  {
   "cell_type": "code",
   "execution_count": null,
   "metadata": {},
   "outputs": [],
   "source": [
    "import requests\n",
    "import pandas as pd \n",
    "\n",
    "# example call to get the first 100 rows of the dataset\n",
    "# url = 'https://data.gov.sg/api/action/datastore_search?resource_id=f1765b54-a209-4718-8d38-a39237f502b3&limit=100'"
   ]
  },
  {
   "cell_type": "code",
   "execution_count": 49,
   "metadata": {},
   "outputs": [],
   "source": [
    "def get_urls(resource_ids, base_url, route):\n",
    "    return [\n",
    "        base_url + route + \"?resource_id=\" + resource_id + \"&limit=100\"\n",
    "        for resource_id in resource_ids.values()\n",
    "    ]\n",
    "\n",
    "\n",
    "def get_resale_flats(url, base_url) -> list:\n",
    "    result = []\n",
    "    while url:\n",
    "        curr_json = requests.get(url).json()\n",
    "        if not result:\n",
    "            result = curr_json[\"result\"][\"records\"]\n",
    "        else:\n",
    "            result.extend(curr_json[\"result\"][\"records\"])\n",
    "        # check if there is a next page or prev and next not the same\n",
    "        if (\"next\" in curr_json[\"result\"][\"_links\"]) or (\n",
    "            [\"prev\"] in curr_json[\"result\"][\"_links\"]\n",
    "            and curr_json[\"result\"][\"_links\"][\"next\"]\n",
    "            != curr_json[\"result\"][\"_links\"][\"prev\"]\n",
    "        ):\n",
    "            url = base_url + curr_json[\"result\"][\"_links\"][\"next\"]\n",
    "        else:\n",
    "            url = None\n",
    "    return result\n",
    "\n",
    "\n",
    "def get_all_resale_flats(start_urls, base_url) -> list:\n",
    "    result = []\n",
    "    for url in start_urls:\n",
    "        result.extend(get_resale_flats(url, base_url))\n",
    "    return result\n",
    "\n",
    "\n",
    "base_url = \"https://data.gov.sg\"\n",
    "route = \"/api/action/datastore_search\"\n",
    "resource_ids = {\n",
    "    #'2017_latest': 'f1765b54-a209-4718-8d38-a39237f502b3',\n",
    "    \"2015_2016\": \"1b702208-44bf-4829-b620-4615ee19b57c\",\n",
    "    \"2012_2014\": \"83b2fc37-ce8c-4df4-968b-370fd818138b\",\n",
    "    \"2000_2012\": \"8c00bf08-9124-479e-aeca-7cc411d884c4\",\n",
    "    \"1990_1999\": \"adbbddd3-30e2-445f-a123-29bee150a6fe\",\n",
    "}\n",
    "\n",
    "\n",
    "def run():\n",
    "    result = get_all_resale_flats(get_urls(resource_ids, base_url, route), base_url)\n",
    "    pd.DataFrame(result).to_csv(\"resale_flats.csv\", index=False)\n"
   ]
  },
  {
   "cell_type": "code",
   "execution_count": 50,
   "metadata": {},
   "outputs": [],
   "source": [
    "run()"
   ]
  }
 ],
 "metadata": {
  "kernelspec": {
   "display_name": "dataengineering",
   "language": "python",
   "name": "python3"
  },
  "language_info": {
   "codemirror_mode": {
    "name": "ipython",
    "version": 3
   },
   "file_extension": ".py",
   "mimetype": "text/x-python",
   "name": "python",
   "nbconvert_exporter": "python",
   "pygments_lexer": "ipython3",
   "version": "3.10.9"
  },
  "orig_nbformat": 4,
  "vscode": {
   "interpreter": {
    "hash": "871a80c3b50ccd6d741e6b8e114b9865acd127a724949f5211d4a3e2b77aebef"
   }
  }
 },
 "nbformat": 4,
 "nbformat_minor": 2
}
