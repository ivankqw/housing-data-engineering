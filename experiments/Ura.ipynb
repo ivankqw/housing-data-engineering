{
 "cells": [
  {
   "cell_type": "code",
   "execution_count": 30,
   "metadata": {},
   "outputs": [
    {
     "data": {
      "text/plain": [
       "True"
      ]
     },
     "execution_count": 30,
     "metadata": {},
     "output_type": "execute_result"
    }
   ],
   "source": [
    "import json\n",
    "import http.client\n",
    "import pandas as pd\n",
    "from dotenv import load_dotenv\n",
    "import os\n",
    "load_dotenv()  # take environment variables from .env."
   ]
  },
  {
   "cell_type": "code",
   "execution_count": 26,
   "metadata": {},
   "outputs": [],
   "source": [
    "def get_token(access_key): \n",
    "    conn = http.client.HTTPSConnection(\"www.ura.gov.sg\")\n",
    "    payload = ''\n",
    "    headers = {\n",
    "    'AccessKey': access_key\n",
    "    }\n",
    "    conn.request(\"GET\", \"/uraDataService/insertNewToken.action\", payload, headers)\n",
    "    res = conn.getresponse()\n",
    "    data = res.read()\n",
    "    return json.loads(data.decode(\"utf-8\"))['Result']"
   ]
  },
  {
   "cell_type": "code",
   "execution_count": 55,
   "metadata": {},
   "outputs": [],
   "source": [
    "def get_result(token, access_key, route):\n",
    "    conn = http.client.HTTPSConnection(\"www.ura.gov.sg\")\n",
    "    payload = \"\"\n",
    "    headers = {\n",
    "        \"AccessKey\": access_key,\n",
    "        \"Token\": token,\n",
    "        \"User-Agent\": \"PostmanRuntime/7.26.8\",\n",
    "    }\n",
    "    conn.request(\"GET\", route, payload, headers)\n",
    "    res = conn.getresponse()\n",
    "    data = res.read()\n",
    "    return json.loads(data.decode(\"utf-8\"))['Result']\n",
    "\n",
    "\n",
    "def get_all_results(token, access_key, routes):\n",
    "    result = []\n",
    "    for route in routes:\n",
    "        result.extend(get_result(token, access_key, route))\n",
    "    return pd.DataFrame(result)\n"
   ]
  },
  {
   "cell_type": "code",
   "execution_count": 57,
   "metadata": {},
   "outputs": [],
   "source": [
    "private_transactions_routes = [\n",
    "    \"/uraDataService/invokeUraDS?service=PMI_Resi_Transaction&batch=\" + str(i)\n",
    "    for i in range(1, 5)\n",
    "]\n",
    "private_rental_routes = [\n",
    "    \"/uraDataService/invokeUraDS?service=PMI_Resi_Rental&refPeriod=14q1\"\n",
    "]  # start from 14q1 to 23q1\n",
    "planning_decisions_routes = [\n",
    "    \"/uraDataService/invokeUraDS?service=Planning_Decision&year=\" + str(i)\n",
    "    for i in range(2000, 2024)\n",
    "]\n",
    "\n",
    "access_key = os.environ.get(\"URA_ACCESS_KEY\")\n",
    "token = get_token(access_key)\n",
    "\n",
    "get_all_results(token, access_key, private_transactions_routes).to_csv(\n",
    "    \"../data/private_transactions.csv\", index=False\n",
    ")\n",
    "get_all_results(token, access_key, private_rental_routes).to_csv(\n",
    "    \"../data/private_rental.csv\", index=False\n",
    ")\n",
    "get_all_results(token, access_key, planning_decisions_routes).to_csv(\n",
    "    \"../data/planning_decisions.csv\", index=False\n",
    ")\n"
   ]
  }
 ],
 "metadata": {
  "kernelspec": {
   "display_name": "dataengineering",
   "language": "python",
   "name": "python3"
  },
  "language_info": {
   "codemirror_mode": {
    "name": "ipython",
    "version": 3
   },
   "file_extension": ".py",
   "mimetype": "text/x-python",
   "name": "python",
   "nbconvert_exporter": "python",
   "pygments_lexer": "ipython3",
   "version": "3.10.9"
  },
  "orig_nbformat": 4,
  "vscode": {
   "interpreter": {
    "hash": "871a80c3b50ccd6d741e6b8e114b9865acd127a724949f5211d4a3e2b77aebef"
   }
  }
 },
 "nbformat": 4,
 "nbformat_minor": 2
}
