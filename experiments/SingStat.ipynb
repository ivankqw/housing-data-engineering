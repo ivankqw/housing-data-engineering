{
 "cells": [
  {
   "cell_type": "code",
   "execution_count": 9,
   "metadata": {},
   "outputs": [],
   "source": [
    "# tablebuilder.singstat.gov.sg/api/table/tabledata/{resourceId}\n",
    "\n",
    "import json\n",
    "import requests\n",
    "import pandas as pd \n",
    "\n",
    "urlData = \"https://tablebuilder.singstat.gov.sg/api/table/tabledata/M212881\"\n",
    "\n",
    "result = requests.get(urlData).json()\n",
    "result = result['Data']"
   ]
  },
  {
   "cell_type": "code",
   "execution_count": 23,
   "metadata": {},
   "outputs": [],
   "source": [
    "key_value_pairs = result['row'][0]['columns']\n",
    "# turn into a dataframe\n",
    "df = pd.DataFrame(key_value_pairs)\n",
    "# rename columns \n",
    "df.columns = ['year_month', 'Value']\n",
    "# convert to datetime\n",
    "df['year_month'] = pd.to_datetime(df['year_month'], format='%Y %b')\n",
    "# rename columns\n",
    "df.columns = ['Month', 'Value']\n",
    "# set index\n",
    "df.set_index('Month', inplace=True)\n"
   ]
  },
  {
   "cell_type": "code",
   "execution_count": 25,
   "metadata": {},
   "outputs": [],
   "source": [
    "df.to_csv(\"../data/cpi.csv\")"
   ]
  },
  {
   "cell_type": "code",
   "execution_count": null,
   "metadata": {},
   "outputs": [],
   "source": []
  }
 ],
 "metadata": {
  "kernelspec": {
   "display_name": "dataengineering",
   "language": "python",
   "name": "dataengineering"
  },
  "language_info": {
   "codemirror_mode": {
    "name": "ipython",
    "version": 3
   },
   "file_extension": ".py",
   "mimetype": "text/x-python",
   "name": "python",
   "nbconvert_exporter": "python",
   "pygments_lexer": "ipython3",
   "version": "3.10.9"
  },
  "orig_nbformat": 4
 },
 "nbformat": 4,
 "nbformat_minor": 2
}
