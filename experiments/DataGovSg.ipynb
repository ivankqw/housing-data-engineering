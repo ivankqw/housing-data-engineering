{
 "cells": [
  {
   "cell_type": "code",
   "execution_count": 1,
   "metadata": {},
   "outputs": [],
   "source": [
    "import requests\n",
    "import pandas as pd \n",
    "# example call to get the first 100 rows of the dataset\n",
    "# url = 'https://data.gov.sg/api/action/datastore_search?resource_id=f1765b54-a209-4718-8d38-a39237f502b3&limit=100'"
   ]
  },
  {
   "cell_type": "code",
   "execution_count": 2,
   "metadata": {},
   "outputs": [],
   "source": [
    "def get_urls(resource_ids, base_url, route):\n",
    "    return [\n",
    "        base_url + route + \"?resource_id=\" + resource_id + \"&limit=1000\"\n",
    "        for resource_id in resource_ids.values()\n",
    "    ]\n",
    "\n",
    "\n",
    "def get_result(url, base_url) -> list:\n",
    "    result = []\n",
    "    while url:\n",
    "        # print(url)\n",
    "        try:\n",
    "            curr_json = requests.get(url).json()\n",
    "            if not result:\n",
    "                # first time\n",
    "                result = curr_json[\"result\"][\"records\"]\n",
    "            elif curr_json[\"result\"][\"records\"]:\n",
    "                result.extend(curr_json[\"result\"][\"records\"])\n",
    "            else:  # no more records\n",
    "                return result\n",
    "            # check if there is a next page or prev and next not the same\n",
    "            if (\"next\" in curr_json[\"result\"][\"_links\"]) or (\n",
    "                \"prev\" in curr_json[\"result\"][\"_links\"]\n",
    "                and curr_json[\"result\"][\"_links\"][\"next\"]\n",
    "                != curr_json[\"result\"][\"_links\"][\"prev\"]\n",
    "            ):\n",
    "                url = base_url + curr_json[\"result\"][\"_links\"][\"next\"]\n",
    "            else:\n",
    "                url = None\n",
    "        except Exception as e:\n",
    "            print(e)\n",
    "            return result  # return what we have so far\n",
    "    return result\n",
    "\n",
    "def get_all_results(start_urls, base_url) -> list:\n",
    "    result = []\n",
    "    for url in start_urls:\n",
    "        result.extend(get_result(url, base_url))\n",
    "    return result\n",
    "\n",
    "\n",
    "def run(resource_ids, base_url, route, output_file):\n",
    "    result = get_all_results(get_urls(resource_ids, base_url, route), base_url)\n",
    "    pd.DataFrame(result).to_csv(output_file, index=False)\n"
   ]
  },
  {
   "attachments": {},
   "cell_type": "markdown",
   "metadata": {},
   "source": [
    "## Pull Resale Flat Transactions from Data.gov.sg"
   ]
  },
  {
   "cell_type": "code",
   "execution_count": 29,
   "metadata": {},
   "outputs": [],
   "source": [
    "base_url = \"https://data.gov.sg\"\n",
    "route = \"/api/action/datastore_search\"\n",
    "resource_ids = {\n",
    "    \"2017_latest\": 'f1765b54-a209-4718-8d38-a39237f502b3',\n",
    "    \"2015_2016\": \"1b702208-44bf-4829-b620-4615ee19b57c\",\n",
    "    \"2012_2014\": \"83b2fc37-ce8c-4df4-968b-370fd818138b\",\n",
    "    \"2000_2012\": \"8c00bf08-9124-479e-aeca-7cc411d884c4\",\n",
    "    \"1990_1999\": \"adbbddd3-30e2-445f-a123-29bee150a6fe\",\n",
    "}\n",
    "\n",
    "# run(resource_ids=resource_ids, base_url=base_url, route=route, output_file=\"../data/resale_flats.csv\")\n",
    "print(\"Hello world\")"
   ]
  },
  {
   "attachments": {},
   "cell_type": "markdown",
   "metadata": {},
   "source": [
    "## Pull CEA Salesperson Information from Data.gov.sg"
   ]
  },
  {
   "cell_type": "code",
   "execution_count": 3,
   "metadata": {},
   "outputs": [
    {
     "name": "stdout",
     "output_type": "stream",
     "text": [
      "Hello world\n"
     ]
    }
   ],
   "source": [
    "base_url = \"https://data.gov.sg\"\n",
    "route = \"/api/action/datastore_search\"\n",
    "resource_ids = {\"salesperson_info\": \"a41ce851-728e-4d65-8dc5-e0515a01ff31\"}\n",
    "\n",
    "run(resource_ids=resource_ids, base_url=base_url, route=route, output_file=\"../data/salesperson_info.csv\")\n",
    "print(\"Hello world\")\n"
   ]
  },
  {
   "attachments": {},
   "cell_type": "markdown",
   "metadata": {},
   "source": [
    "## Pull CEA Salesperson' Property Transactions from Data.gov.sg"
   ]
  },
  {
   "cell_type": "code",
   "execution_count": 4,
   "metadata": {},
   "outputs": [
    {
     "name": "stdout",
     "output_type": "stream",
     "text": [
      "Hello world\n"
     ]
    }
   ],
   "source": [
    "base_url = \"https://data.gov.sg\"\n",
    "route = \"/api/action/datastore_search\"\n",
    "resource_ids = {\"salesperson_transactions\": \"8a087b7c-a11b-4da8-bbb6-ac933f465acd\"}\n",
    "\n",
    "run(resource_ids=resource_ids, base_url=base_url, route=route, output_file=\"../data/salesperson_transactions.csv\")\n",
    "print(\"Hello world\")"
   ]
  },
  {
   "attachments": {},
   "cell_type": "markdown",
   "metadata": {},
   "source": [
    "## Pull Renting Out of Flats 2023 from Data.gov.sg  "
   ]
  },
  {
   "cell_type": "code",
   "execution_count": 5,
   "metadata": {},
   "outputs": [
    {
     "name": "stdout",
     "output_type": "stream",
     "text": [
      "Hello world\n"
     ]
    }
   ],
   "source": [
    "base_url = \"https://data.gov.sg\"\n",
    "route = \"/api/action/datastore_search\"\n",
    "resource_ids = {\"flat_rental\": \"9caa8451-79f3-4cd6-a6a7-9cecc6d59544\"}\n",
    "\n",
    "run(resource_ids=resource_ids, base_url=base_url, route=route, output_file=\"../data/flat_rental.csv\")\n",
    "print(\"Hello world\")"
   ]
  },
  {
   "attachments": {},
   "cell_type": "markdown",
   "metadata": {},
   "source": [
    "## Pull HDB Property Information from Data.gov.sg"
   ]
  },
  {
   "cell_type": "code",
   "execution_count": 6,
   "metadata": {},
   "outputs": [
    {
     "name": "stdout",
     "output_type": "stream",
     "text": [
      "Hello world\n"
     ]
    }
   ],
   "source": [
    "base_url = \"https://data.gov.sg\"\n",
    "route = \"/api/action/datastore_search\"\n",
    "resource_ids = {\"hdb_information\": \"482bfa14-2977-4035-9c61-c85f871daf4e\"}\n",
    "\n",
    "run(\n",
    "    resource_ids=resource_ids,\n",
    "    base_url=base_url,\n",
    "    route=route,\n",
    "    output_file=\"../data/hdb_information.csv\",\n",
    ")\n",
    "print(\"Hello world\")\n"
   ]
  }
 ],
 "metadata": {
  "kernelspec": {
   "display_name": "dataengineering",
   "language": "python",
   "name": "dataengineering"
  },
  "language_info": {
   "codemirror_mode": {
    "name": "ipython",
    "version": 3
   },
   "file_extension": ".py",
   "mimetype": "text/x-python",
   "name": "python",
   "nbconvert_exporter": "python",
   "pygments_lexer": "ipython3",
   "version": "3.10.9"
  },
  "orig_nbformat": 4,
  "vscode": {
   "interpreter": {
    "hash": "c6e4e9f98eb68ad3b7c296f83d20e6de614cb42e90992a65aa266555a3137d0d"
   }
  }
 },
 "nbformat": 4,
 "nbformat_minor": 2
}
