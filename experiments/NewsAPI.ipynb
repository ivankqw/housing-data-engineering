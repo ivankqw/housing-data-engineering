{
 "cells": [
  {
   "cell_type": "code",
   "execution_count": 1,
   "id": "5f4279c6",
   "metadata": {},
   "outputs": [],
   "source": [
    "# pip install newsapi-python"
   ]
  },
  {
   "cell_type": "code",
   "execution_count": 2,
   "id": "09ec7ebd",
   "metadata": {},
   "outputs": [],
   "source": [
    "import requests\n",
    "import pandas as pd\n",
    "import json"
   ]
  },
  {
   "cell_type": "markdown",
   "id": "feaba662",
   "metadata": {},
   "source": [
    "# Using Gnews.io instead"
   ]
  },
  {
   "cell_type": "code",
   "execution_count": 11,
   "id": "8344e34d",
   "metadata": {},
   "outputs": [],
   "source": [
    "apikey = \"\"\n",
    "url = f\"https://gnews.io/api/v4/search?q=example&lang=en&country=sg&topic=business&apikey={apikey}\"\n",
    "\n",
    "response = requests.get(url=url)\n",
    "data = response.json()\n",
    "\n",
    "with open('Singapore_business_news.json', 'w') as outfile:\n",
    "    json.dump(data, outfile)"
   ]
  },
  {
   "cell_type": "code",
   "execution_count": 12,
   "id": "fe174fb1",
   "metadata": {},
   "outputs": [
    {
     "name": "stdout",
     "output_type": "stream",
     "text": [
      "{'totalArticles': 129, 'articles': [{'title': 'Why do seats at some Japanese station platforms face away from the trains?', 'description': 'Unusual design in Kansai is a clever example of thoughtful customer service, designed specifically with the user in mind.', 'content': 'Unusual design in Kansai is a clever example of thoughtful customer service, designed specifically with the user in mind.\\nOsaka, in the Kansai region, and Tokyo, in the Kanto region, pride themselves on doing things differently from each other, wheth... [4297 chars]', 'url': 'https://soranews24.com/2022/12/20/why-do-seats-at-some-japanese-station-platforms-face-away-from-the-trains/', 'image': 'https://soranews24.com/wp-content/uploads/sites/3/2022/12/Japanese-train-stations-Osaka-UX-design-user-drunk-passengers-experience-photos-3.jpg?w=1200&h=630&crop=1', 'publishedAt': '2022-12-20T03:00:59Z', 'source': {'name': 'SoraNews24', 'url': 'https://soranews24.com'}}, {'title': 'SG eCommerce marketplace players address illegal goods being sold on platform', 'description': 'For example, electronic vaporisers have been marketed as incense burners on the platform.', 'content': 'Purchasing on eCommerce market places is now common in our digital first era. However, a recent report by The Sunday Times uncovered that several of these marketplaces such as Lazada and Amazon are now seeing merchants sell illegal goods on their pla... [3939 chars]', 'url': 'https://www.marketing-interactive.com/sg-ecommerce-marketplace-players-address-illegal-goods-being-sold-on-platform', 'image': 'https://marketing-interactive-assets.b-cdn.net/images/sg/content-images/by_year_month/2022-december/ecommerce_illegal_1.jpg', 'publishedAt': '2022-12-07T03:35:11Z', 'source': {'name': 'Marketing Interactive', 'url': 'https://www.marketing-interactive.com'}}, {'title': 'UX at Japanese convenience store is a heartwarming example of excellent customer service', 'description': 'A simple design makes daily life so much easier for customers.', 'content': 'A simple design makes daily life so much easier for customers.\\nIf you’ve ever been to Japan, one thing that might’ve struck you is how user-friendly things are here. Whether it’s elevators with mirrors, red-and-yellow markings on stairs or public pay... [2383 chars]', 'url': 'https://soranews24.com/2022/11/26/ux-at-japanese-convenience-store-is-a-heartwarming-example-of-kind-customer-service/', 'image': 'https://soranews24.com/wp-content/uploads/sites/3/2022/11/UX-japan-customer-service-excellent-convenience-store-hearing-impaired-photos-Lawson-Twitter-news-２-copy.jpg?w=1200&h=630&crop=1', 'publishedAt': '2022-11-25T15:00:54Z', 'source': {'name': 'SoraNews24', 'url': 'https://soranews24.com'}}, {'title': '#MobExAwards 2022 spills: The Hong Kong Jockey', 'description': '\"Creating relevancy is an increasingly important trend, for example, location-based content and personalised content based on consumers\\' preferences.\"', 'content': 'The Hong Kong Jockey Club has introduced unique experiences over the past two years to surprise and delight consumers, from an immersive virtual racecourse to developing a racing beat game to draw renewed engagement from consumers. Aside from winning... [5016 chars]', 'url': 'https://www.marketing-interactive.com/mob-ex-awards-interview-article-hong-kong-jockey-club', 'image': 'https://marketing-interactive-assets.b-cdn.net/images/sg/banner/hkjc_mobex2022_lead.png?auto_optimize=medium', 'publishedAt': '2022-10-14T04:28:30Z', 'source': {'name': 'Marketing Interactive', 'url': 'https://www.marketing-interactive.com'}}, {'title': 'If Putin was a woman, there would be no Ukraine war: Boris Johnson', 'description': 'Putin\\'s invasion of Ukraine is \"a perfect example of toxic masculinity\", he said.\\nRead more at straitstimes.com.', 'content': 'BERLIN (AFP) - Russian President Vladimir Putin would not have started the war in Ukraine if he was a woman, according to British Prime Minister Boris Johnson.\\n\"If Putin was a woman, which he obviously isn\\'t, but if he were, I really don\\'t think he w... [1194 chars]', 'url': 'https://www.straitstimes.com/world/europe/if-putin-was-a-woman-there-would-be-no-ukraine-war-boris-johnson', 'image': 'https://static1.straitstimes.com.sg/s3fs-public/styles/large30x20/public/articles/2022/06/29/ads-vp-bj-290622.jpg?VersionId=BTXNFF9StL2_Xz3vb1bunp2ceP9sEZOo', 'publishedAt': '2022-06-29T13:58:12Z', 'source': {'name': 'The Straits Times', 'url': 'https://www.straitstimes.com'}}, {'title': \"Despite the negative chatter, Ah Girls Go Army brand sponsors aren't left disappointed\", 'description': 'Nippon Paint, for example, sponsored SG$40,000 in cash and material in a bid to showcase its support for local companies.', 'content': \"Jack Neo's latest film, Ah Girls Go Army, has been slated for a sequel in June this year. The film was officially released in Singapore theatres on 1 February and had hit SG$1.67 million in just 10 days, according to a Facebook post by Golden Village... [4341 chars]\", 'url': 'https://www.marketing-interactive.com/ah-girls-go-army-brand-sponsors', 'image': 'https://micdn-13a1c.kxcdn.com/images/sg/content-images/by_year_month/2022-february/ah_girls_go_army.jpg', 'publishedAt': '2022-02-17T03:21:32Z', 'source': {'name': 'Marketing Interactive', 'url': 'https://www.marketing-interactive.com'}}, {'title': '“Genius” child seat at food court in Japanese shopping mall goes viral', 'description': 'Another example of amazing customer service in Japan.', 'content': 'Another example of amazing customer service in Japan.\\nOne of the great things about living in Japan is the attention to detail in customer-oriented service. It’s the reason why you’ll find unusual design features like huge locks and double hooks on t... [2724 chars]', 'url': 'https://soranews24.com/2022/01/27/genius-child-seat-at-food-court-in-japanese-shopping-mall-goes-viral/', 'image': 'https://soranews24.com/wp-content/uploads/sites/3/2022/01/Japanese-customer-service-good-design-parents-children-shopping-mall-food-court-seating-Terrace-Mall-Matsudo-Chiba-Twitter-photos-child-seat.jpg?w=1200&h=630&crop=1', 'publishedAt': '2022-01-27T04:00:02Z', 'source': {'name': 'SoraNews24', 'url': 'https://soranews24.com'}}, {'title': 'Through The Lens webinar: Climate change and biodiversity closely linked, and can impact humans', 'description': 'For example, bird migration schedules seem to be shifting due to changes in climate.\\n. Read more at straitstimes.com.', 'content': 'SINGAPORE - Climate change and biodiversity have been treated as two separate issues for some time, but in recent years, there has been greater awareness about their close links.\\nThis was one of the points raised by Ms Kong Man Jing, a panellist at a... [1058 chars]', 'url': 'https://www.straitstimes.com/singapore/environment/through-the-lens-webinar-climate-change-and-biodiversity-closely-linked-and-can-impact-humans', 'image': 'https://static1.straitstimes.com.sg/s3fs-public/styles/large30x20/public/articles/2022/01/26/hzweb260122.jpg?VersionId=bXn2Nr8HxjhgStvLtv26PhkSDzXbrDCu', 'publishedAt': '2022-01-26T13:29:53Z', 'source': {'name': 'The Straits Times', 'url': 'https://www.straitstimes.com'}}, {'title': 'Singer Wang Leehom accused of buying social media likes and followers', 'description': \"In one of the images shared by Wang's estranged wife on Instagram, for example, payment was made for\\xa040,000 likes and 400 comments for Wang's video about his vaccination in the US last June.\", 'content': 'Asian singer-songwriter Wang Leehom (pictured) was recently accused by his estranged wife, Li Jinglei, of purchasing likes and comments for his Instagram and Weibo. In an Instagram post, Li shared images of payment requests forms and alleged that Wan... [1941 chars]', 'url': 'https://www.marketing-interactive.com/wang-leehom-social-media-buys', 'image': 'https://micdn-13a1c.kxcdn.com/images/sg/content-images/by_year_month/2022-january/wangleehom-fb.jpg', 'publishedAt': '2022-01-14T09:56:55Z', 'source': {'name': 'Marketing Interactive', 'url': 'https://www.marketing-interactive.com'}}, {'title': 'France bans plastic packaging for fruits and vegetables', 'description': 'The October decree covers, for example, the sale of under 1.5 kg of apples.\\n. Read more at straitstimes.com.', 'content': \"PARIS (AFP) - A ban on the use of plastic to package a range of fruits and vegetables came into force in France on Saturday (Jan 1), to the dismay of the sector's packaging industry.\\nEnvironmentalists have long campaigned against single-use plastics ... [1494 chars]\", 'url': 'https://www.straitstimes.com/world/europe/france-bans-plastic-packaging-for-fruits-and-vegetables', 'image': 'https://static1.straitstimes.com.sg/s3fs-public/styles/large30x20/public/articles/2022/01/01/yq-frn-01012022.jpg?VersionId=SAzuw20ZQxOOjqa1ZXxfk5qhxy7jze9U', 'publishedAt': '2022-01-01T15:25:52Z', 'source': {'name': 'The Straits Times', 'url': 'https://www.straitstimes.com'}}]}\n"
     ]
    }
   ],
   "source": [
    "print(data)"
   ]
  },
  {
   "cell_type": "markdown",
   "id": "7ce5d12d",
   "metadata": {},
   "source": [
    "Bottom pull request seems to be more relevant"
   ]
  },
  {
   "cell_type": "code",
   "execution_count": 13,
   "id": "6ba49199",
   "metadata": {},
   "outputs": [],
   "source": [
    "url = 'https://gnews.io/api/v4/top-headlines'\n",
    "params = {'q': 'property Singapore', 'country': 'sg', 'topic': 'business', 'token': apikey}\n",
    "\n",
    "response = requests.get(url, params=params)\n",
    "data = response.json()"
   ]
  },
  {
   "cell_type": "code",
   "execution_count": 14,
   "id": "d6ea6741",
   "metadata": {},
   "outputs": [
    {
     "name": "stdout",
     "output_type": "stream",
     "text": [
      "{'totalArticles': 426, 'articles': [{'title': 'Man who used to rent 1BR Boon Keng condo for $2.2K says agent found new tenant in 2 weeks who’ll pay $3.9K', 'description': 'Netizens commented about how expensive housing is with one person saying that it was horrible to come back to what was akin to a rathole after working the whole day and that too at a rental of $2.5k', 'content': 'SINGAPORE: “The property market is nuts,” wrote one Reddit user who said that he had decided to leave Singapore because life has become too expensive.\\nTo his surprise, the one-bedroom condominium he had been renting for $2,200 a month was snapped up ... [2550 chars]', 'url': 'https://theindependent.sg/man-who-used-to-rent-1br-boon-keng-condo-for-2-2k-says-agent-found-new-tenant-in-2-weeks-wholl-pay-3-9k/', 'image': 'https://media.theindependent.sg/wp-content/uploads/2023/02/28181603/289556-1353-get-flats-after-draw-of-lots-for-dda-housing-scheme.jpg', 'publishedAt': '2023-02-28T09:30:11Z', 'source': {'name': 'The Independent', 'url': 'https://theindependent.sg'}}, {'title': 'Condo and HDB flat rentals in Singapore rise again but at slower pace in January', 'description': 'Fewer deals were closed during the Chinese New Year holidays.\\nRead more at straitstimes.com.', 'content': 'SINGAPORE – Rents for condominiums and Housing Board flats continue to rise but at a slower pace in January.\\nCondo rents climbed by 1.4 per cent from December, posting the lowest increase in the past 11 months, while HDB rents rose marginally by 0.6 ... [2790 chars]', 'url': 'https://www.straitstimes.com/business/property/condo-and-hdb-flat-rentals-go-up-again-but-at-slower-pace-in-january', 'image': 'https://static1.straitstimes.com.sg/s3fs-public/styles/large30x20/public/articles/2023/02/28/yaohui-pixgeneric-8288_0.jpg?VersionId=MNn4BO1yvmqflP0kGLJzwOYVkU85J0os', 'publishedAt': '2023-02-28T09:01:59Z', 'source': {'name': 'The Straits Times', 'url': 'https://www.straitstimes.com'}}, {'title': 'GK Goh founder and son launch offer to privatise company at $1.26 per share', 'description': 'The move comes amid a spate of delistings on the Singapore Exchange.\\nRead more at straitstimes.com.', 'content': 'SINGAPORE – GK Goh Holdings’ founder and chairman, along with its managing director, has launched an offer to take it private at $1.26 per share in cash, valuing the investment company at $396 million.\\nThe move comes amid a spate of delistings on the... [2517 chars]', 'url': 'https://www.straitstimes.com/business/gk-goh-founder-and-his-son-launch-offer-to-privatise-company-at-126-per-share', 'image': 'https://static1.straitstimes.com.sg/s3fs-public/styles/large30x20/public/articles/2023/02/28/sgx039A6440_6.jpg?VersionId=Nv6M1akK8nepBN6cPCwwHiOPApfM465R', 'publishedAt': '2023-02-28T04:24:28Z', 'source': {'name': 'The Straits Times', 'url': 'https://www.straitstimes.com'}}, {'title': 'Landlord terminates rental agreement with tenant over alleged illegal partitioning amid soaring rental prices and high demand for flexible living spaces', 'description': 'The Online Citizen Asia Landlord terminates rental agreement with tenant over alleged illegal partitioning amid soaring rental prices and high demand for flexible living spaces Consumer Watch', 'content': \"Photo: Shin Min Daily's newspaper cutting\\nSINGAPORE — The soaring rental prices of housing in Singapore have prompted many to explore alternative solutions, with short-term leasing contracts and highly flexible shared living spaces emerging as popula... [6642 chars]\", 'url': 'https://www.theonlinecitizen.com/2023/02/27/landlord-terminates-rental-agreement-with-tenant-over-alleged-illegal-partitioning-amid-soaring-rental-prices-and-high-demand-for-flexible-living-spaces/', 'image': 'https://www.theonlinecitizen.com/wp-content/uploads/2023/02/landlord2-tile.jpg', 'publishedAt': '2023-02-27T08:08:12Z', 'source': {'name': 'The Online Citizen Asia', 'url': 'https://www.theonlinecitizen.com'}}, {'title': 'HDB Price Guide: Most Expensive HDB Estates In 2022', 'description': 'If you are looking to buy an HDB flat in 2023, these HDB estates are likely to continue to command high prices based on these median prices', 'content': 'After 11 consecutive quarters of increases since 2Q2020, the resale price index which tracks the overall price movement of HDB resale flats has risen from 131.9 to 171.9 in 4Q2022: an increase of 40%.\\nEven two rounds of property cooling measures did ... [7928 chars]', 'url': 'https://dollarsandsense.sg/hdb-price-guide-expensive-hdb-estates-2022/', 'image': 'https://dollarsandsense.sg/wp-content/uploads/2023/02/andy-wang-Qd6Q2aMas8g-unsplash-1000x600.jpg', 'publishedAt': '2023-02-27T00:00:45Z', 'source': {'name': 'DollarsAndSense.sg', 'url': 'https://dollarsandsense.sg'}}, {'title': \"CapitaLand Investment Declares a Special Dividend: 5 Things to Note About the Group's 2022 Earnings\", 'description': 'The property giant continues to raise funds in China to work towards its strategic goals.', 'content': 'Many blue-chip companies such as DBS Group (SGX: D05) and Singapore Airlines Limited (SGX: C6L) have reported strong sets of earnings despite the macroeconomic challenges.\\nCapitaLand Investment Limited (SGX: 9CI), or CLI, is no exception.\\nThe real es... [4609 chars]', 'url': 'https://thesmartinvestor.com.sg/capitaland-investment-declares-a-special-dividend-5-things-to-note-about-the-groups-2022-earnings/', 'image': 'https://thesmartinvestor.com.sg/wp-content/uploads/2022/12/Capitaland_800x533px-2.jpg', 'publishedAt': '2023-02-26T23:30:00Z', 'source': {'name': 'The Smart Investor', 'url': 'https://thesmartinvestor.com.sg'}}, {'title': 'ComfortDelGro reports 40.2% rise in net profits to $173.1m', 'description': 'SINGAPORE - Land transport giant ComfortDelGro Corp posted a 40.2 per cent rise in net earnings for the year ended Dec 31, 2022, to $173.1 million.\\nRead more at straitstimes.com.', 'content': 'SINGAPORE - Land transport giant ComfortDelGro Corp posted a 40.2 per cent rise in net earnings for the year ended Dec 31, 2022, to $173.1 million.\\nRevenue grew by 7.9 per cent to $3.78 billion, largely on the back of increased rail and taxi ridershi... [3270 chars]', 'url': 'https://www.straitstimes.com/singapore/transport/comfortdelgro-reports-402-rise-in-net-profits-to-1731m', 'image': 'https://static1.straitstimes.com.sg/s3fs-public/styles/large30x20/public/articles/2023/02/24/20230220453808788a9b274e-5029-4404-89c4-cecf1e2c0f10_3.jpg?VersionId=94k5qtcqMKzKFgl6mqPhppkTg50I3Drj', 'publishedAt': '2023-02-24T11:31:42Z', 'source': {'name': 'The Straits Times', 'url': 'https://www.straitstimes.com'}}, {'title': 'Hazel Poa urges sustainable funding and fairer taxation to address housing affordability and high cost of living in Singapore', 'description': 'The Online Citizen Asia Hazel Poa urges sustainable funding and fairer taxation to address housing affordability and high cost of living in Singapore Parliament', 'content': 'Ms Hazel Poa, Non-constituency Member of Parliament from the Progress Singapore Party (PSP), during the Budget 2023 debate on 23 February 2023, highlighted the challenges facing Singapore as it grapples with the trade-offs between affordability and s... [5095 chars]', 'url': 'https://www.theonlinecitizen.com/2023/02/23/hazel-poa-urges-sustainable-funding-and-fairer-taxation-to-address-housing-affordability-and-high-cost-of-living-in-singapore/', 'image': 'https://www.theonlinecitizen.com/wp-content/uploads/2023/02/hazel-poa-23-Feb-2023.png', 'publishedAt': '2023-02-23T11:44:47Z', 'source': {'name': 'The Online Citizen Asia', 'url': 'https://www.theonlinecitizen.com'}}, {'title': '200 people granted Singapore permanent residency under Global Investor Programme in last 3 years', 'description': 'Foreigners can apply to be PRs under the programme if they invest at least $2.5 million into starting or expanding a business here.\\nRead more at straitstimes.com.', 'content': 'SINGAPORE - About 200 people obtained permanent residency through the Global Investor Programme (GIP) from 2020 to 2022, said Minister of State for Trade and Industry Low Yen Ling.\\nShe gave the figure on Thursday in response to Mr Yip Hon Weng (Yio C... [2128 chars]', 'url': 'https://www.straitstimes.com/singapore/200-people-granted-singapore-permanent-residency-under-global-investor-programme-in-last-3-years', 'image': 'https://static1.straitstimes.com.sg/s3fs-public/styles/large30x20/public/articles/2023/02/23/IMGIMGbiz1175SEHQ111Q104JU_8.jpg?VersionId=b2sesvVzGKLG9Y7rSbW8cDdmM0FZjNke', 'publishedAt': '2023-02-23T07:09:58Z', 'source': {'name': 'The Straits Times', 'url': 'https://www.straitstimes.com'}}, {'title': 'China-born billionaire Li Xiting whose fortune boomed during the pandemic is still Singapore’s richest man', 'description': \"In the first years of the pandemic, his net worth grew by an estimated US$1 billion each month as the stock price of Mindray, China's largest medical equipment manufacturer, ascended during the bearish market.\", 'content': 'SINGAPORE: A list of the country’s wealthiest people was published on Sunday (Feb 19) and shows that Chinese-born business magnate Li Xiting is still on top of the list, with a net worth of US$17.1 billion (SGD22.9 billion).\\nThe Covid-19 pandemic add... [2725 chars]', 'url': 'https://theindependent.sg/china-born-billionaire-li-xiting-whose-fortune-boomed-during-the-pandemic-is-still-singapores-richest-man/', 'image': 'https://media.theindependent.sg/wp-content/uploads/2022/09/08181014/Li-Xiting.jpeg', 'publishedAt': '2023-02-22T08:30:58Z', 'source': {'name': 'The Independent', 'url': 'https://theindependent.sg'}}]}\n"
     ]
    }
   ],
   "source": [
    "print(data)"
   ]
  },
  {
   "cell_type": "code",
   "execution_count": 15,
   "id": "6a7225cd",
   "metadata": {},
   "outputs": [],
   "source": [
    "with open('Singapore_Property_Top_Headlines.json', 'w') as outfile:\n",
    "    json.dump(data, outfile)"
   ]
  }
 ],
 "metadata": {
  "kernelspec": {
   "display_name": "dataengineering",
   "language": "python",
   "name": "python3"
  },
  "language_info": {
   "codemirror_mode": {
    "name": "ipython",
    "version": 3
   },
   "file_extension": ".py",
   "mimetype": "text/x-python",
   "name": "python",
   "nbconvert_exporter": "python",
   "pygments_lexer": "ipython3",
   "version": "3.10.9"
  },
  "vscode": {
   "interpreter": {
    "hash": "871a80c3b50ccd6d741e6b8e114b9865acd127a724949f5211d4a3e2b77aebef"
   }
  }
 },
 "nbformat": 4,
 "nbformat_minor": 5
}
