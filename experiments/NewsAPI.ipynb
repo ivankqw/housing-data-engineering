{
 "cells": [
  {
   "cell_type": "code",
   "execution_count": 1,
   "id": "5f4279c6",
   "metadata": {},
   "outputs": [],
   "source": [
    "# pip install newsapi-python"
   ]
  },
  {
   "cell_type": "code",
   "execution_count": 2,
   "id": "09ec7ebd",
   "metadata": {},
   "outputs": [],
   "source": [
    "import requests\n",
    "import pandas as pd\n",
    "import json"
   ]
  },
  {
   "cell_type": "markdown",
   "id": "feaba662",
   "metadata": {},
   "source": [
    "# Using Gnews.io instead"
   ]
  },
  {
   "cell_type": "code",
   "execution_count": 11,
   "id": "8344e34d",
   "metadata": {},
   "outputs": [],
   "source": [
    "apikey = \"\"\n",
    "url = f\"https://gnews.io/api/v4/search?q=example&lang=en&country=sg&topic=business&apikey={apikey}\"\n",
    "\n",
    "response = requests.get(url=url)\n",
    "data = response.json()\n",
    "\n",
    "with open('Singapore_business_news.json', 'w') as outfile:\n",
    "    json.dump(data, outfile)"
   ]
  },
  {
   "cell_type": "code",
   "execution_count": 12,
   "id": "fe174fb1",
   "metadata": {},
   "outputs": [
    {
     "name": "stdout",
     "output_type": "stream",
     "text": [
      "{'totalArticles': 129, 'articles': [{'title': 'Why do seats at some Japanese station platforms face away from the trains?', 'description': 'Unusual design in Kansai is a clever example of thoughtful customer service, designed specifically with the user in mind.', 'content': 'Unusual design in Kansai is a clever example of thoughtful customer service, designed specifically with the user in mind.\\nOsaka, in the Kansai region, and Tokyo, in the Kanto region, pride themselves on doing things differently from each other, wheth... [4297 chars]', 'url': 'https://soranews24.com/2022/12/20/why-do-seats-at-some-japanese-station-platforms-face-away-from-the-trains/', 'image': 'https://soranews24.com/wp-content/uploads/sites/3/2022/12/Japanese-train-stations-Osaka-UX-design-user-drunk-passengers-experience-photos-3.jpg?w=1200&h=630&crop=1', 'publishedAt': '2022-12-20T03:00:59Z', 'source': {'name': 'SoraNews24', 'url': 'https://soranews24.com'}}, {'title': 'SG eCommerce marketplace players address illegal goods being sold on platform', 'description': 'For example, electronic vaporisers have been marketed as incense burners on the platform.', 'content': 'Purchasing on eCommerce market places is now common in our digital first era. However, a recent report by The Sunday Times uncovered that several of these marketplaces such as Lazada and Amazon are now seeing merchants sell illegal goods on their pla... [3939 chars]', 'url': 'https://www.marketing-interactive.com/sg-ecommerce-marketplace-players-address-illegal-goods-being-sold-on-platform', 'image': 'https://marketing-interactive-assets.b-cdn.net/images/sg/content-images/by_year_month/2022-december/ecommerce_illegal_1.jpg', 'publishedAt': '2022-12-07T03:35:11Z', 'source': {'name': 'Marketing Interactive', 'url': 'https://www.marketing-interactive.com'}}, {'title': 'UX at Japanese convenience store is a heartwarming example of excellent customer service', 'description': 'A simple design makes daily life so much easier for customers.', 'content': 'A simple design makes daily life so much easier for customers.\\nIf you’ve ever been to Japan, one thing that might’ve struck you is how user-friendly things are here. Whether it’s elevators with mirrors, red-and-yellow markings on stairs or public pay... [2383 chars]', 'url': 'https://soranews24.com/2022/11/26/ux-at-japanese-convenience-store-is-a-heartwarming-example-of-kind-customer-service/', 'image': 'https://soranews24.com/wp-content/uploads/sites/3/2022/11/UX-japan-customer-service-excellent-convenience-store-hearing-impaired-photos-Lawson-Twitter-news-２-copy.jpg?w=1200&h=630&crop=1', 'publishedAt': '2022-11-25T15:00:54Z', 'source': {'name': 'SoraNews24', 'url': 'https://soranews24.com'}}, {'title': '#MobExAwards 2022 spills: The Hong Kong Jockey', 'description': '\"Creating relevancy is an increasingly important trend, for example, location-based content and personalised content based on consumers\\' preferences.\"', 'content': 'The Hong Kong Jockey Club has introduced unique experiences over the past two years to surprise and delight consumers, from an immersive virtual racecourse to developing a racing beat game to draw renewed engagement from consumers. Aside from winning... [5016 chars]', 'url': 'https://www.marketing-interactive.com/mob-ex-awards-interview-article-hong-kong-jockey-club', 'image': 'https://marketing-interactive-assets.b-cdn.net/images/sg/banner/hkjc_mobex2022_lead.png?auto_optimize=medium', 'publishedAt': '2022-10-14T04:28:30Z', 'source': {'name': 'Marketing Interactive', 'url': 'https://www.marketing-interactive.com'}}, {'title': 'If Putin was a woman, there would be no Ukraine war: Boris Johnson', 'description': 'Putin\\'s invasion of Ukraine is \"a perfect example of toxic masculinity\", he said.\\nRead more at straitstimes.com.', 'content': 'BERLIN (AFP) - Russian President Vladimir Putin would not have started the war in Ukraine if he was a woman, according to British Prime Minister Boris Johnson.\\n\"If Putin was a woman, which he obviously isn\\'t, but if he were, I really don\\'t think he w... [1194 chars]', 'url': 'https://www.straitstimes.com/world/europe/if-putin-was-a-woman-there-would-be-no-ukraine-war-boris-johnson', 'image': 'https://static1.straitstimes.com.sg/s3fs-public/styles/large30x20/public/articles/2022/06/29/ads-vp-bj-290622.jpg?VersionId=BTXNFF9StL2_Xz3vb1bunp2ceP9sEZOo', 'publishedAt': '2022-06-29T13:58:12Z', 'source': {'name': 'The Straits Times', 'url': 'https://www.straitstimes.com'}}, {'title': \"Despite the negative chatter, Ah Girls Go Army brand sponsors aren't left disappointed\", 'description': 'Nippon Paint, for example, sponsored SG$40,000 in cash and material in a bid to showcase its support for local companies.', 'content': \"Jack Neo's latest film, Ah Girls Go Army, has been slated for a sequel in June this year. The film was officially released in Singapore theatres on 1 February and had hit SG$1.67 million in just 10 days, according to a Facebook post by Golden Village... [4341 chars]\", 'url': 'https://www.marketing-interactive.com/ah-girls-go-army-brand-sponsors', 'image': 'https://micdn-13a1c.kxcdn.com/images/sg/content-images/by_year_month/2022-february/ah_girls_go_army.jpg', 'publishedAt': '2022-02-17T03:21:32Z', 'source': {'name': 'Marketing Interactive', 'url': 'https://www.marketing-interactive.com'}}, {'title': '“Genius” child seat at food court in Japanese shopping mall goes viral', 'description': 'Another example of amazing customer service in Japan.', 'content': 'Another example of amazing customer service in Japan.\\nOne of the great things about living in Japan is the attention to detail in customer-oriented service. It’s the reason why you’ll find unusual design features like huge locks and double hooks on t... [2724 chars]', 'url': 'https://soranews24.com/2022/01/27/genius-child-seat-at-food-court-in-japanese-shopping-mall-goes-viral/', 'image': 'https://soranews24.com/wp-content/uploads/sites/3/2022/01/Japanese-customer-service-good-design-parents-children-shopping-mall-food-court-seating-Terrace-Mall-Matsudo-Chiba-Twitter-photos-child-seat.jpg?w=1200&h=630&crop=1', 'publishedAt': '2022-01-27T04:00:02Z', 'source': {'name': 'SoraNews24', 'url': 'https://soranews24.com'}}, {'title': 'Through The Lens webinar: Climate change and biodiversity closely linked, and can impact humans', 'description': 'For example, bird migration schedules seem to be shifting due to changes in climate.\\n. Read more at straitstimes.com.', 'content': 'SINGAPORE - Climate change and biodiversity have been treated as two separate issues for some time, but in recent years, there has been greater awareness about their close links.\\nThis was one of the points raised by Ms Kong Man Jing, a panellist at a... [1058 chars]', 'url': 'https://www.straitstimes.com/singapore/environment/through-the-lens-webinar-climate-change-and-biodiversity-closely-linked-and-can-impact-humans', 'image': 'https://static1.straitstimes.com.sg/s3fs-public/styles/large30x20/public/articles/2022/01/26/hzweb260122.jpg?VersionId=bXn2Nr8HxjhgStvLtv26PhkSDzXbrDCu', 'publishedAt': '2022-01-26T13:29:53Z', 'source': {'name': 'The Straits Times', 'url': 'https://www.straitstimes.com'}}, {'title': 'Singer Wang Leehom accused of buying social media likes and followers', 'description': \"In one of the images shared by Wang's estranged wife on Instagram, for example, payment was made for\\xa040,000 likes and 400 comments for Wang's video about his vaccination in the US last June.\", 'content': 'Asian singer-songwriter Wang Leehom (pictured) was recently accused by his estranged wife, Li Jinglei, of purchasing likes and comments for his Instagram and Weibo. In an Instagram post, Li shared images of payment requests forms and alleged that Wan... [1941 chars]', 'url': 'https://www.marketing-interactive.com/wang-leehom-social-media-buys', 'image': 'https://micdn-13a1c.kxcdn.com/images/sg/content-images/by_year_month/2022-january/wangleehom-fb.jpg', 'publishedAt': '2022-01-14T09:56:55Z', 'source': {'name': 'Marketing Interactive', 'url': 'https://www.marketing-interactive.com'}}, {'title': 'France bans plastic packaging for fruits and vegetables', 'description': 'The October decree covers, for example, the sale of under 1.5 kg of apples.\\n. Read more at straitstimes.com.', 'content': \"PARIS (AFP) - A ban on the use of plastic to package a range of fruits and vegetables came into force in France on Saturday (Jan 1), to the dismay of the sector's packaging industry.\\nEnvironmentalists have long campaigned against single-use plastics ... [1494 chars]\", 'url': 'https://www.straitstimes.com/world/europe/france-bans-plastic-packaging-for-fruits-and-vegetables', 'image': 'https://static1.straitstimes.com.sg/s3fs-public/styles/large30x20/public/articles/2022/01/01/yq-frn-01012022.jpg?VersionId=SAzuw20ZQxOOjqa1ZXxfk5qhxy7jze9U', 'publishedAt': '2022-01-01T15:25:52Z', 'source': {'name': 'The Straits Times', 'url': 'https://www.straitstimes.com'}}]}\n"
     ]
    }
   ],
   "source": [
    "print(data)"
   ]
  },
  {
   "cell_type": "markdown",
   "id": "7ce5d12d",
   "metadata": {},
   "source": [
    "Bottom pull request seems to be more relevant"
   ]
  },
  {
   "cell_type": "code",
   "execution_count": 7,
   "id": "6ba49199",
   "metadata": {},
   "outputs": [],
   "source": [
    "url = 'https://gnews.io/api/v4/top-headlines'\n",
    "params = {'q': 'property Singapore', 'country': 'sg', 'topic': 'business', 'token': apikey}\n",
    "\n",
    "response = requests.get(url, params=params)\n",
    "data = response.json()"
   ]
  },
  {
   "cell_type": "code",
   "execution_count": 8,
   "id": "d6ea6741",
   "metadata": {},
   "outputs": [
    {
     "name": "stdout",
     "output_type": "stream",
     "text": [
      "{'totalArticles': 491, 'articles': [{'title': 'HDB resale prices pick up in March with 24% more flats sold', 'description': 'Property analysts attributed the increment to higher demand after the CNY period and shorter month of February. Read more at straitstimes.com.', 'content': 'SINGAPORE – Prices of Housing Board resale flats crept up in March after staying flat in February.\\nResale prices rose marginally by 0.7 per cent in mature estates and 0.5 per cent in non-mature estates, with prices of both five-room and executive fla... [3233 chars]', 'url': 'https://www.straitstimes.com/singapore/housing/hdb-resale-prices-picked-up-in-march-with-24-more-flats-sold', 'image': 'https://static1.straitstimes.com.sg/s3fs-public/styles/large30x20/public/articles/2023/04/06/aihdb0604_5.JPG?VersionId=dQmS.yMOi2C2LxjdSS2vLiKGkBU9__z.', 'publishedAt': '2023-04-06T06:48:28Z', 'source': {'name': 'The Straits Times', 'url': 'https://www.straitstimes.com'}}, {'title': 'GuocoLand-Hong Leong Bid for Singapore Site', 'description': 'A JV between GuocoLand and Hong Leong Holdings placed the sole bid for the Lentor Gardens residential plot in Singapore’s Ang Mo Kio area.', 'content': 'A joint venture between Malaysia’s GuocoLand and its Singapore cousins at Hong Leong Holdings placed the sole bid in a government tender for a residential plot in the northern part of Singapore’s Ang Mo Kio area, with the low-ball S$486.8 million ($3... [4963 chars]', 'url': 'https://www.mingtiandi.com/real-estate/projects/guocoland-hong-leong-jv-sole-bidders-as-singapore-site-draws-367m-record-low-offer/', 'image': 'https://www.mingtiandi.com/wp-content/uploads/2023/04/Lentor_Gardens_Residences_Aerial-View-TVI600.jpeg', 'publishedAt': '2023-04-05T13:56:31Z', 'source': {'name': 'Mingtiandi', 'url': 'https://www.mingtiandi.com'}}, {'title': '3 Top Stocks to Watch for in April', 'description': 'Here are three stocks you should keep your eyes on this month.', 'content': 'There is a feeling that the good times may be back.\\nAfter enduring a punishing 2022 where a third of its value was lost, the NASDAQ Composite Index shot up 17.7% in the first quarter.\\nThe bellwether S&P 500 Index, which lost nearly a fifth of its val... [4650 chars]', 'url': 'https://thesmartinvestor.com.sg/3-top-stocks-to-watch-for-in-april/', 'image': 'https://thesmartinvestor.com.sg/wp-content/uploads/2021/12/HDB-Flats-2.png', 'publishedAt': '2023-04-04T23:30:00Z', 'source': {'name': 'The Smart Investor', 'url': 'https://thesmartinvestor.com.sg'}}, {'title': 'Private home prices up 3.2% in Q1, driven by surge in landed prices and more new launches', 'description': 'This is in stark contrast to the tepid gain of 0.4 per cent in fourth quarter 2022. Read more at straitstimes.com.', 'content': 'SINGAPORE - Private home prices gained 3.2 per cent in the first quarter of 2023 even as sales dropped, fuelled by a surge in landed property prices and overall growth in non-landed prices, particularly in the city fringe.\\nThis is in stark contrast t... [4180 chars]', 'url': 'https://www.straitstimes.com/business/private-home-prices-up-32-per-cent-in-q1-driven-by-surge-in-landed-prices-and-more-new-launches', 'image': 'https://static1.straitstimes.com.sg/s3fs-public/styles/large30x20/public/articles/2023/04/03/202212311028603331ffb1cac-4ee1-4c5c-8372-161cc55ccf9d_5.jpg?VersionId=pqesiKdvZJCTjIatS8T_rjwcV3fLNyFq', 'publishedAt': '2023-04-03T09:46:32Z', 'source': {'name': 'The Straits Times', 'url': 'https://www.straitstimes.com'}}, {'title': 'HDB resale prices rise 0.9% in Q1, smallest increase in last 10 quarters', 'description': 'Some analysts say this as a sign of price resistance setting in. Read more at straitstimes.com.', 'content': 'SINGAPORE - Prices of Housing Board resale flats grew at a slower pace of 0.9 per cent in the first quarter of 2023 compared with the 2.3 per cent increase in the previous quarter, with some analysts citing this as a sign of price resistance setting ... [4613 chars]', 'url': 'https://www.straitstimes.com/singapore/housing/hdb-resale-prices-rise-09-in-q1-smallest-increase-in-last-10-quarters', 'image': 'https://static1.straitstimes.com.sg/s3fs-public/styles/large30x20/public/articles/2023/04/03/jqgeneric0A1A0131_3.jpg?VersionId=aO8Pc.0.rWikJVYGLGKJfeeBOKhm5geX', 'publishedAt': '2023-04-03T05:12:38Z', 'source': {'name': 'The Straits Times', 'url': 'https://www.straitstimes.com'}}, {'title': 'READERS’ CHOICE AWARDS 2023', 'description': \"The public has voted for the best companies in Singapore - here are the winners of Expat Living's Readers' Choice Awards 2023!\", 'content': 'We’re delighted to announce the results of Expat Living’s Readers’ Choice Awards 2023. These awards give recognition to some of the best companies in Singapore who’ve done a great job, and help spread the word about them too!\\nOver 25,000 participants... [5263 chars]', 'url': 'https://expatliving.sg/expat-living-readers-choice-awards-2023-winners-results/', 'image': 'https://expatliving.sg/wp-content/uploads/2023/03/RCA2023_FB_1200x628px-results.jpg', 'publishedAt': '2023-04-03T01:02:23Z', 'source': {'name': 'Expat Living Singapore', 'url': 'https://expatliving.sg'}}, {'title': 'Share Prices of These 4 Singapore REITs Are Hitting a Year-Low: Can They Recover?', 'description': 'The tough economic environment has taken a toll on these four REITs. Can investors see a business recovery this year?', 'content': 'Singapore is well-known for being a REIT hub.\\nIncome-seeking investors are spoiled for choice as the local bourse boasts a wide variety of REITs from different property sub-classes such as retail, industrial, commercial, and healthcare.\\nHowever, of l... [4820 chars]', 'url': 'https://thesmartinvestor.com.sg/share-prices-of-these-4-singapore-reits-are-hitting-a-year-low-can-they-recover/', 'image': 'https://thesmartinvestor.com.sg/wp-content/uploads/2022/06/Data-Centre-Sunlight.png', 'publishedAt': '2023-04-02T23:30:00Z', 'source': {'name': 'The Smart Investor', 'url': 'https://thesmartinvestor.com.sg'}}, {'title': 'Iras probes home buyers who used ‘99-to-1’ loophole to avoid paying ABSD', 'description': 'The audit by IRAS will ruffle the property investment community because such cases are apparently quite common. Read more at straitstimes.com.', 'content': 'SINGAPORE - The taxman has launched an audit of private property purchases involving a “99-to-1” sales contract that could be used to dodge paying the additional buyer’s stamp duty (ABSD).\\nThe Straits Times has learnt that letters are being sent to s... [2811 chars]', 'url': 'https://www.straitstimes.com/business/invest/iras-probes-home-buyers-who-used-99-to-1-loophole-to-avoid-paying-absd', 'image': 'https://static1.straitstimes.com.sg/s3fs-public/styles/large30x20/public/articles/2023/04/02/IMG7485.JPG?VersionId=jm1YFhf1rJ22RUV5rQOgZJPlklNrHmwP', 'publishedAt': '2023-04-01T09:30:00Z', 'source': {'name': 'The Straits Times', 'url': 'https://www.straitstimes.com'}}, {'title': 'ComfortDelGro to spend $6b on switch to EVs', 'description': 'The amount is equivalent to almost three times the group’s current market value. Read more at straitstimes.com.', 'content': 'SINGAPORE – Transport giant ComfortDelGro Corp expects to spend $6 billion to replace the bulk of its fleet of largely combustion-engined buses and taxis with electric vehicles (EVs), said its founding chairman.\\nThe amount is equivalent to almost thr... [2221 chars]', 'url': 'https://www.straitstimes.com/singapore/transport/comfortdelgro-to-spend-6b-on-switch-to-evs', 'image': 'https://static1.straitstimes.com.sg/s3fs-public/styles/large30x20/public/articles/2023/03/31/20230306610561673268fcdd-f5da-4fb6-a9aa-2d1a2979a2a4_1.jpg?VersionId=hTULTwVfZXP13.AXtrGOKVMDRqZ61TrP', 'publishedAt': '2023-03-31T11:55:11Z', 'source': {'name': 'The Straits Times', 'url': 'https://www.straitstimes.com'}}, {'title': \"Regrets about my walk-up apartment: A homeowner's cautionary tale\", 'description': \"Walk-up apartments are a niche type of property that isn't for everyone. While you do often have more interior space (and more freedom to renovate as you wish), the downsides are very obvious too. Alternately praised and derided for their size and (usually) advanced age, investors can't seem to come to an agreement on these, and walking up and down...\", 'content': \"Walk-up apartments are a niche type of property that isn't for everyone. While you do often have more interior space (and more freedom to renovate as you wish), the downsides are very obvious too.\\nAlternately praised and derided for their size and (u... [7993 chars]\", 'url': 'https://www.asiaone.com/lifestyle/regrets-about-my-walk-apartment-homeowners-cautionary-tale', 'image': 'https://media.asiaone.com/sites/default/files/styles/a1_600x316/public/original_images/Mar2023/0331_stacked_main.jpeg?h=2e181f1f&itok=oRqk_hNw', 'publishedAt': '2023-03-31T03:33:22Z', 'source': {'name': 'AsiaOne', 'url': 'https://www.asiaone.com'}}]}\n"
     ]
    }
   ],
   "source": [
    "print(data)"
   ]
  },
  {
   "cell_type": "code",
   "execution_count": 9,
   "id": "6a7225cd",
   "metadata": {},
   "outputs": [],
   "source": [
    "with open('Singapore_Property_Top_Headlines.json', 'w') as outfile:\n",
    "    json.dump(data, outfile)"
   ]
  },
  {
   "cell_type": "code",
   "execution_count": null,
   "id": "2034452e",
   "metadata": {},
   "outputs": [],
   "source": []
  }
 ],
 "metadata": {
  "kernelspec": {
   "display_name": "Python 3 (ipykernel)",
   "language": "python",
   "name": "python3"
  },
  "language_info": {
   "codemirror_mode": {
    "name": "ipython",
    "version": 3
   },
   "file_extension": ".py",
   "mimetype": "text/x-python",
   "name": "python",
   "nbconvert_exporter": "python",
   "pygments_lexer": "ipython3",
   "version": "3.9.16"
  },
  "vscode": {
   "interpreter": {
    "hash": "871a80c3b50ccd6d741e6b8e114b9865acd127a724949f5211d4a3e2b77aebef"
   }
  }
 },
 "nbformat": 4,
 "nbformat_minor": 5
}
