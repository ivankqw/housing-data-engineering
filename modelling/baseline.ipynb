{
 "cells": [
  {
   "attachments": {},
   "cell_type": "markdown",
   "metadata": {},
   "source": [
    "# Baseline forecast: having data up to time T, the forecast for time T+1 to T+N is the value of the time T"
   ]
  },
  {
   "cell_type": "code",
   "execution_count": 2,
   "metadata": {},
   "outputs": [],
   "source": [
    "import pandas as pd\n",
    "import math\n",
    "from sklearn.metrics import mean_squared_error\n",
    "import pickle"
   ]
  },
  {
   "attachments": {},
   "cell_type": "markdown",
   "metadata": {},
   "source": [
    "# Import all previous files"
   ]
  },
  {
   "cell_type": "code",
   "execution_count": 24,
   "metadata": {},
   "outputs": [],
   "source": [
    "# open pickle\n",
    "train_df_dict = pd.read_pickle('data/train_df_dict.pkl')\n",
    "train_df_dict_L = pd.read_pickle('data/train_df_dict_L.pkl')\n",
    "test_df_dict = pd.read_pickle('data/test_df_dict.pkl')\n",
    "\n",
    "# remove the NaN values from train set\n",
    "train_df_dict_clean = {}\n",
    "for district_no, district_df in train_df_dict.items():\n",
    "    train_df_dict_clean[district_no] = district_df.dropna()\n",
    "\n",
    "# remove the NaN values from test set\n",
    "test_df_dict_clean = {}\n",
    "for district_no, district_df in test_df_dict.items():\n",
    "    test_df_dict_clean[district_no] = district_df.dropna()"
   ]
  },
  {
   "cell_type": "code",
   "execution_count": 46,
   "metadata": {},
   "outputs": [],
   "source": [
    "# the forecast for the whole test set is the last value of the train set\n",
    "def baseline_forecast(train_df, test_df):\n",
    "    # get the last value of the train set\n",
    "    last_value = train_df.iloc[-1]\n",
    "    # create a dataframe with the same index as the test set\n",
    "    forecast = pd.Series(\n",
    "        [last_value] * len(test_df), index=test_df.index\n",
    "    )\n",
    "    return forecast\n",
    "\n",
    "# create a dictionary with the forecast for each district\n",
    "baseline_forecast_dict = {}\n",
    "for district_no, train_df in train_df_dict_clean.items():\n",
    "    test_df = test_df_dict_clean[district_no]\n",
    "    baseline_forecast_dict[district_no] = baseline_forecast(train_df, test_df)\n",
    "\n",
    "# calculate the RMSE for each district\n",
    "baseline_rmse_dict = {}\n",
    "for district_no, forecast in baseline_forecast_dict.items():\n",
    "    test_df = test_df_dict_clean[district_no]\n",
    "    baseline_rmse_dict[district_no] = math.sqrt(\n",
    "        mean_squared_error(test_df, forecast)\n",
    "    )\n"
   ]
  },
  {
   "cell_type": "code",
   "execution_count": 47,
   "metadata": {},
   "outputs": [
    {
     "data": {
      "text/plain": [
       "{1: 80923.33914379595,\n",
       " 2: 87935.36286007657,\n",
       " 3: 38424.43430075885,\n",
       " 4: 103630.48474266633,\n",
       " 5: 72840.12645971084,\n",
       " 7: 94444.8247708682,\n",
       " 8: 68113.84854296029,\n",
       " 10: 151364.91368433658,\n",
       " 11: 58730.31585135568,\n",
       " 12: 125802.90423515667,\n",
       " 13: 87425.76833710604,\n",
       " 14: 81622.03891515249,\n",
       " 15: 60028.15602290659,\n",
       " 16: 19384.003284495524,\n",
       " 17: 66370.08980439049,\n",
       " 18: 49620.40099606629,\n",
       " 19: 60155.540494344044,\n",
       " 20: 65188.051892198775,\n",
       " 21: 304881.4826084064,\n",
       " 22: 46597.66876143054,\n",
       " 23: 54434.40241856859,\n",
       " 25: 72655.85546487862,\n",
       " 27: 55369.09644226943,\n",
       " 28: 69407.1083487371}"
      ]
     },
     "execution_count": 47,
     "metadata": {},
     "output_type": "execute_result"
    }
   ],
   "source": [
    "baseline_rmse_dict"
   ]
  },
  {
   "cell_type": "code",
   "execution_count": 50,
   "metadata": {},
   "outputs": [],
   "source": [
    "# save the baseline rmse dictionary\n",
    "with open(\"eval/baseline_rmse_dict.pkl\", \"wb\") as f:\n",
    "    pickle.dump(baseline_rmse_dict, f)\n"
   ]
  }
 ],
 "metadata": {
  "kernelspec": {
   "display_name": "dataengineering",
   "language": "python",
   "name": "python3"
  },
  "language_info": {
   "codemirror_mode": {
    "name": "ipython",
    "version": 3
   },
   "file_extension": ".py",
   "mimetype": "text/x-python",
   "name": "python",
   "nbconvert_exporter": "python",
   "pygments_lexer": "ipython3",
   "version": "3.10.9"
  },
  "orig_nbformat": 4
 },
 "nbformat": 4,
 "nbformat_minor": 2
}
