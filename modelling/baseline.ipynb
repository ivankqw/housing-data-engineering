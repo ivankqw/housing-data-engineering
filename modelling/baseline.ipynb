{
 "cells": [
  {
   "attachments": {},
   "cell_type": "markdown",
   "metadata": {},
   "source": [
    "# Baseline forecast: having data up to time T, the forecast for time T+1 to T+N is the value of the time T"
   ]
  },
  {
   "cell_type": "code",
   "execution_count": 4,
   "metadata": {},
   "outputs": [],
   "source": [
    "import pandas as pd\n",
    "import math\n",
    "from sklearn.metrics import mean_squared_error\n",
    "import pickle"
   ]
  },
  {
   "attachments": {},
   "cell_type": "markdown",
   "metadata": {},
   "source": [
    "# Import all previous files"
   ]
  },
  {
   "cell_type": "code",
   "execution_count": 5,
   "metadata": {},
   "outputs": [],
   "source": [
    "# open pickle\n",
    "train_df_dict = pd.read_pickle('data/train_df_dict.pkl')\n",
    "train_df_dict_L = pd.read_pickle('data/train_df_dict_L.pkl')\n",
    "test_df_dict = pd.read_pickle('data/test_df_dict.pkl')\n",
    "\n",
    "# remove the NaN values from train set\n",
    "train_df_dict_clean = {}\n",
    "for district_no, district_df in train_df_dict.items():\n",
    "    train_df_dict_clean[district_no] = district_df.dropna()\n",
    "\n",
    "# remove the NaN values from test set\n",
    "test_df_dict_clean = {}\n",
    "for district_no, district_df in test_df_dict.items():\n",
    "    test_df_dict_clean[district_no] = district_df.dropna()"
   ]
  },
  {
   "cell_type": "code",
   "execution_count": 7,
   "metadata": {},
   "outputs": [],
   "source": [
    "def baseline_forecast(train_df, test_df):\n",
    "    # forecast at t is the value at t-1\n",
    "    forecast = test_df.shift(1)\n",
    "    # first forecast of the test set is the last value of the train set\n",
    "    forecast.iloc[0] = train_df.iloc[-1]\n",
    "    return forecast\n",
    "\n",
    "# create a dictionary with the forecast for each district\n",
    "baseline_forecast_dict = {}\n",
    "for district_no, train_df in train_df_dict_clean.items():\n",
    "    test_df = test_df_dict_clean[district_no]\n",
    "    baseline_forecast_dict[district_no] = baseline_forecast(train_df, test_df)\n",
    "\n",
    "# calculate the RMSE for each district\n",
    "baseline_rmse_dict = {}\n",
    "for district_no, forecast in baseline_forecast_dict.items():\n",
    "    test_df = test_df_dict_clean[district_no]\n",
    "    baseline_rmse_dict[district_no] = math.sqrt(\n",
    "        mean_squared_error(test_df, forecast)\n",
    "    )\n"
   ]
  },
  {
   "cell_type": "code",
   "execution_count": 8,
   "metadata": {},
   "outputs": [
    {
     "data": {
      "text/plain": [
       "{1: 80023.2125414529,\n",
       " 2: 104978.30126586478,\n",
       " 3: 50876.392390446345,\n",
       " 4: 81127.68943770061,\n",
       " 5: 89702.49092788152,\n",
       " 7: 137234.25955642416,\n",
       " 8: 77919.58190339577,\n",
       " 10: 119792.10855756178,\n",
       " 11: 43545.95273960601,\n",
       " 12: 62698.45767374718,\n",
       " 13: 112172.8240885465,\n",
       " 14: 83652.92076988904,\n",
       " 15: 87039.20968741857,\n",
       " 16: 18111.34543134036,\n",
       " 17: 33465.83223229328,\n",
       " 18: 16284.70826739511,\n",
       " 19: 7768.517898115016,\n",
       " 20: 76508.00394947795,\n",
       " 21: 265477.3989909499,\n",
       " 22: 16070.31047200603,\n",
       " 23: 11246.758792351391,\n",
       " 25: 19014.59965395012,\n",
       " 27: 12410.117445052645,\n",
       " 28: 16806.114561869043}"
      ]
     },
     "execution_count": 8,
     "metadata": {},
     "output_type": "execute_result"
    }
   ],
   "source": [
    "baseline_rmse_dict"
   ]
  },
  {
   "cell_type": "code",
   "execution_count": 9,
   "metadata": {},
   "outputs": [],
   "source": [
    "# save the baseline rmse dictionary\n",
    "with open(\"eval/baseline_rmse_dict.pkl\", \"wb\") as f:\n",
    "    pickle.dump(baseline_rmse_dict, f)\n"
   ]
  }
 ],
 "metadata": {
  "kernelspec": {
   "display_name": "dataengineering",
   "language": "python",
   "name": "python3"
  },
  "language_info": {
   "codemirror_mode": {
    "name": "ipython",
    "version": 3
   },
   "file_extension": ".py",
   "mimetype": "text/x-python",
   "name": "python",
   "nbconvert_exporter": "python",
   "pygments_lexer": "ipython3",
   "version": "3.10.9"
  },
  "orig_nbformat": 4,
  "vscode": {
   "interpreter": {
    "hash": "871a80c3b50ccd6d741e6b8e114b9865acd127a724949f5211d4a3e2b77aebef"
   }
  }
 },
 "nbformat": 4,
 "nbformat_minor": 2
}
