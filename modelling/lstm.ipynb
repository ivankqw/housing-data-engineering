{
 "cells": [
  {
   "cell_type": "code",
   "execution_count": 2,
   "metadata": {},
   "outputs": [],
   "source": [
    "# ! pip install pytorch-forecasting\n",
    "\n",
    "import pandas as pd\n",
    "import numpy as np\n",
    "import matplotlib.pyplot as plt\n",
    "import seaborn as sns\n",
    "import time\n",
    "import math\n",
    "import pmdarima as pm\n",
    "from statsmodels.tsa.stattools import adfuller # adf test \n",
    "from statsmodels.graphics.tsaplots import plot_acf, plot_pacf # acf and pacf plots\n",
    "from statsmodels.stats.diagnostic import acorr_ljungbox # ljungbox test\n",
    "from sklearn.metrics import mean_squared_error\n",
    "from pprint import pprint\n",
    "import pickle\n",
    "import torch\n",
    "import pytorch_lightning as pl\n",
    "\n",
    "# map district name to district number\n",
    "district_mapping_path = \"../airflow/dags/data/districts.xlsx\"\n",
    "\n",
    "district_mapping = pd.read_excel(district_mapping_path)\n",
    "\n",
    "\n",
    "def get_district_name(district_no):\n",
    "    return district_mapping[district_mapping[\"Postal District\"] == district_no][\n",
    "        \"General Location\"\n",
    "    ].values[0]"
   ]
  },
  {
   "cell_type": "code",
   "execution_count": null,
   "metadata": {},
   "outputs": [],
   "source": []
  }
 ],
 "metadata": {
  "kernelspec": {
   "display_name": "dataengineering",
   "language": "python",
   "name": "python3"
  },
  "language_info": {
   "codemirror_mode": {
    "name": "ipython",
    "version": 3
   },
   "file_extension": ".py",
   "mimetype": "text/x-python",
   "name": "python",
   "nbconvert_exporter": "python",
   "pygments_lexer": "ipython3",
   "version": "3.10.9"
  },
  "orig_nbformat": 4
 },
 "nbformat": 4,
 "nbformat_minor": 2
}
