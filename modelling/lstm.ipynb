{
 "cells": [
  {
   "cell_type": "code",
   "execution_count": 2,
   "metadata": {},
   "outputs": [],
   "source": [
    "import pandas as pd\n",
    "import numpy as np\n",
    "import matplotlib.pyplot as plt\n",
    "import seaborn as sns\n",
    "import time\n",
    "import math\n",
    "from sklearn.metrics import mean_squared_error\n",
    "from sklearn.preprocessing import MinMaxScaler, StandardScaler\n",
    "from pprint import pprint\n",
    "import pickle\n",
    "import torch\n",
    "\n",
    "# map district name to district number\n",
    "district_mapping_path = \"../airflow/dags/data/districts.xlsx\"\n",
    "\n",
    "district_mapping = pd.read_excel(district_mapping_path)\n",
    "\n",
    "\n",
    "def get_district_name(district_no):\n",
    "    return district_mapping[district_mapping[\"Postal District\"] == district_no][\n",
    "        \"General Location\"\n",
    "    ].values[0]"
   ]
  },
  {
   "attachments": {},
   "cell_type": "markdown",
   "metadata": {},
   "source": [
    "# Import all previous files"
   ]
  },
  {
   "cell_type": "code",
   "execution_count": 12,
   "metadata": {},
   "outputs": [],
   "source": [
    "# open pickle\n",
    "train_df_dict = pd.read_pickle('data/train_df_dict.pkl')\n",
    "train_df_dict_L = pd.read_pickle('data/train_df_dict_L.pkl')\n",
    "test_df_dict = pd.read_pickle('data/test_df_dict.pkl')\n",
    "\n",
    "# import resale_flat_transactions_clean\n",
    "resale_flat_transactions_clean = pd.read_csv('data/resale_flat_transactions_clean.csv')\n",
    "\n",
    "# import features \n",
    "all_district_var_ts = pd.read_pickle('data/all_district_var_ts.pkl')\n",
    "\n",
    "# remove the NaN values from train set\n",
    "# train_df_dict_clean = {}\n",
    "# for district_no, district_df in train_df_dict.items():\n",
    "#     train_df_dict_clean[district_no] = district_df.dropna()\n",
    "\n",
    "# hopefully lstm can handle the NaN values\n"
   ]
  },
  {
   "cell_type": "code",
   "execution_count": 11,
   "metadata": {},
   "outputs": [],
   "source": [
    "# prepare data for LSTM\n",
    "def create_dataset(df_dict, district_no, look_back=1):\n",
    "    dataX, dataY = [], []\n",
    "    for i in range(len(df_dict[district_no]) - look_back - 1):\n",
    "        a = df_dict[district_no][i : (i + look_back), 0]\n",
    "        dataX.append(a)\n",
    "        dataY.append(df_dict[district_no][i + look_back, 0])\n",
    "    return np.array(dataX), np.array(dataY)"
   ]
  },
  {
   "cell_type": "code",
   "execution_count": null,
   "metadata": {},
   "outputs": [],
   "source": []
  }
 ],
 "metadata": {
  "kernelspec": {
   "display_name": "dataengineering",
   "language": "python",
   "name": "python3"
  },
  "language_info": {
   "codemirror_mode": {
    "name": "ipython",
    "version": 3
   },
   "file_extension": ".py",
   "mimetype": "text/x-python",
   "name": "python",
   "nbconvert_exporter": "python",
   "pygments_lexer": "ipython3",
   "version": "3.10.9"
  },
  "orig_nbformat": 4
 },
 "nbformat": 4,
 "nbformat_minor": 2
}
